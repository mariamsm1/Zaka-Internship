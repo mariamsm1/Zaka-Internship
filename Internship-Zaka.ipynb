{
 "cells": [
  {
   "cell_type": "markdown",
   "metadata": {},
   "source": [
    "### Tasks:\n",
    "\n",
    "- Look for videos for people falling (Slipfall data) and annotate as much images as possible."
   ]
  },
  {
   "cell_type": "markdown",
   "metadata": {},
   "source": [
    "### NOTES:\n",
    "1. I downloaded 4K video downloader to download the videos from youtube (I used two youtube videos and the rest were received from Cristophe via [google drive](https://drive.google.com/drive/folders/16VwyMpNnRhaxvbmDiCZt6ZzPrAfsfa3c).\n",
    "2. I installed labelImg with:\n",
    "> pip3 install labelImg <br>\n",
    "3. Using the following command,I annotated a total of 608 objects (608 xmls).\n",
    "> brew install ffmpeg <br>\n",
    "> ffmpeg -i Video1.mp4 -vf fps=5 img-%d.jpg <br>\n",
    "\n",
    "4. I renamed the xml files in each directory based on the video name because i need to have them all in one directory at the end to parse them, see next cell for bash command.\n",
    "\n",
    "5. I received a script from Joseph (count_objects.py) to count how many \"Walking, Standing, Running,Bending,Falling,Fallen\" are there in the xml files.\n"
   ]
  },
  {
   "cell_type": "markdown",
   "metadata": {},
   "source": [
    "**Run the xml parser code as python3 count_objects.py**"
   ]
  },
  {
   "cell_type": "code",
   "execution_count": null,
   "metadata": {},
   "outputs": [],
   "source": [
    "for file in *.xml; do mv -- \"$file\" \"${file%.xml}video2.xml\";done"
   ]
  },
  {
   "cell_type": "markdown",
   "metadata": {},
   "source": [
    "Total number of gestures obtained from both me and Youssef (initial number):<br>\n",
    "\n",
    "- Standing: 841\n",
    "- Walking: 462\n",
    "- Fallen: 695\n",
    "- Falling: 312\n",
    "- Bending: 404\n",
    "- Laying-down: 148\n",
    "- Getting-up 121\n",
    "- Sitting: 98\n",
    "- Running: 48"
   ]
  },
  {
   "cell_type": "markdown",
   "metadata": {},
   "source": [
    "### CROP THE IMAGES BASED ON THE COORDINATES FROM XML FILE"
   ]
  },
  {
   "cell_type": "code",
   "execution_count": 2,
   "metadata": {},
   "outputs": [],
   "source": [
    "import numpy as np \n",
    "import bs4\n",
    "from bs4 import BeautifulSoup \n",
    "import lxml\n",
    "from PIL import Image \n",
    "import os\n",
    "import cv2\n",
    "import glob"
   ]
  },
  {
   "cell_type": "code",
   "execution_count": 96,
   "metadata": {},
   "outputs": [],
   "source": [
    "#labelimg saves the images in PASCALVoc (i.e. xml format)\n",
    "xml_path = '/Volumes/LaCie/videos/TBS-FallData/'\n",
    "\n",
    "dirs = glob.glob(xml_path+'/*')\n",
    "\n",
    "subdirs = ['Walking','Standing', 'Falling', 'Fallen','Bending', \n",
    "           'Getting_up','Laying_down','Running','Sitting']\n",
    "\n",
    "for subdir in subdirs:\n",
    "    if not os.path.exists(subdir):\n",
    "        os.makedirs(subdir)\n",
    "    else:\n",
    "        os.system('rm -rf %s/*' % subdir)\n",
    "\n",
    "for fold in dirs:\n",
    "    files = glob.glob(fold + '/*')\n",
    "    for file in files:\n",
    "        #images are saved in png format\n",
    "        if '.png' in file:\n",
    "            im_path = file\n",
    "            #take image name\n",
    "            im = im_path.split('/')[-1]\n",
    "            path_noIm = im_path.split('/')[:6]\n",
    "            path_noIm = '/'.join(path_noIm) \n",
    "            directory = im.split('.')[0] \n",
    "        #take xml annotations files\n",
    "        elif '.xml' in file:\n",
    "            file = open(file, 'r')\n",
    "            content = file.readlines()\n",
    "#       Combine the lines in the list into a string\n",
    "            content = \"\".join(content)\n",
    "            soup = BeautifulSoup(content, 'lxml')\n",
    "            objects = soup.find('object')\n",
    "            annotations = soup.find('annotation')\n",
    "            imagename = annotations.find('filename').text\n",
    "            #take dimensions needed to perform the crop\n",
    "            xmin = int(objects.find('xmin').text)\n",
    "            ymin = int(objects.find('ymin').text)\n",
    "            xmax = int(objects.find('xmax').text)\n",
    "            ymax = int(objects.find('ymax').text)\n",
    "            #save the gesture name\n",
    "            name = objects.find('name').text\n",
    "            if name == subdirs[0]:\n",
    "                subdir = subdirs[0]\n",
    "            elif name == subdirs[1]:\n",
    "                subdir = subdirs[1]\n",
    "            elif name == subdirs[2]:\n",
    "                subdir = subdirs[2]\n",
    "            elif name == subdirs[3]:\n",
    "                subdir = subdirs[3]\n",
    "            elif name == subdirs[4]:\n",
    "                subdir = subdirs[4]\n",
    "            elif name == subdirs[5]:\n",
    "                subdir = subdirs[5]\n",
    "            elif name == subdirs[6]:\n",
    "                subdir = subdirs[6]\n",
    "            elif name == subdirs[7]:\n",
    "                subdir = subdirs[7]\n",
    "            elif name == subdirs[8]:\n",
    "                subdir = subdirs[8]\n",
    "            #save image name\n",
    "            if imagename == im:\n",
    "                image = cv2.imread(im_path)\n",
    "                cropped = image[ymin:ymax,xmin:xmax]\n",
    "                cv2.imwrite(\"{0}/{1}\".format(subdir,im), cropped)\n",
    "                \n",
    "                \n",
    "                \n",
    "            \n",
    "                \n",
    "            \n",
    "\n",
    "\n",
    "\n"
   ]
  },
  {
   "cell_type": "markdown",
   "metadata": {},
   "source": [
    "Since the videos i annotated (compilation, Grocery2) were downloaded with normal quality (640x360) , I redownloaded them with youtube-dl and split them again. The quality was much better (compilation: 1280 × 720 , Grocery2: 1920 × 1080 )"
   ]
  },
  {
   "cell_type": "markdown",
   "metadata": {},
   "source": [
    "> brew install youtube-dl \n",
    "\n",
    "\n",
    "> youtube-dl --version\n",
    "\n",
    "\n",
    "> youtube-dl 'url'"
   ]
  },
  {
   "cell_type": "markdown",
   "metadata": {},
   "source": [
    "### Merging directories + give labels to each class\n",
    "#### giving labels to ensure that when i merge them no images replace each other"
   ]
  },
  {
   "cell_type": "code",
   "execution_count": null,
   "metadata": {},
   "outputs": [],
   "source": [
    "#adding labels to names\n",
    "for file in *.jpg; do mv -- \"$file\" \"${file%.jpg}_1.jpg\";done"
   ]
  },
  {
   "cell_type": "markdown",
   "metadata": {},
   "source": [
    "bending:1 <br>\n",
    "falling:2 <br>\n",
    "fallen:3 <br>\n",
    "laying_down:4<br>\n",
    "sitting:5<br>     \n",
    "walking:6 <br>\n",
    "getting_up:7<br>\n",
    "running:8 <br>\n",
    "standing:9 <br>"
   ]
  },
  {
   "cell_type": "markdown",
   "metadata": {},
   "source": [
    "I split the directories to two clasees : danger (fallen and falling) and safe (all other classes). <br>\n",
    "**safe**: 2121\n",
    "**danger**: 2006"
   ]
  },
  {
   "cell_type": "markdown",
   "metadata": {},
   "source": [
    "### For models training, check google colab notebooks!"
   ]
  },
  {
   "cell_type": "code",
   "execution_count": null,
   "metadata": {},
   "outputs": [],
   "source": []
  },
  {
   "cell_type": "code",
   "execution_count": null,
   "metadata": {},
   "outputs": [],
   "source": []
  },
  {
   "cell_type": "code",
   "execution_count": null,
   "metadata": {},
   "outputs": [],
   "source": []
  },
  {
   "cell_type": "code",
   "execution_count": null,
   "metadata": {},
   "outputs": [],
   "source": []
  },
  {
   "cell_type": "code",
   "execution_count": null,
   "metadata": {},
   "outputs": [],
   "source": []
  }
 ],
 "metadata": {
  "kernelspec": {
   "display_name": "Python 3",
   "language": "python",
   "name": "python3"
  },
  "language_info": {
   "codemirror_mode": {
    "name": "ipython",
    "version": 3
   },
   "file_extension": ".py",
   "mimetype": "text/x-python",
   "name": "python",
   "nbconvert_exporter": "python",
   "pygments_lexer": "ipython3",
   "version": "3.8.8"
  }
 },
 "nbformat": 4,
 "nbformat_minor": 4
}
